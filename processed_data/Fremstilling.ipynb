{
 "cells": [
  {
   "cell_type": "markdown",
   "metadata": {},
   "source": [
    "Behandling av data"
   ]
  },
  {
   "cell_type": "code",
   "execution_count": 21,
   "metadata": {},
   "outputs": [
    {
     "ename": "ImportError",
     "evalue": "cannot import name 'nedbør' from 'weather' (/Users/petter/Desktop/Skole/1. Klasse/Anvending av programering/milj-dataanalyse/processed_data/../src/weather.py)",
     "output_type": "error",
     "traceback": [
      "\u001b[0;31m---------------------------------------------------------------------------\u001b[0m",
      "\u001b[0;31mImportError\u001b[0m                               Traceback (most recent call last)",
      "Cell \u001b[0;32mIn[21], line 9\u001b[0m\n\u001b[1;32m      5\u001b[0m \u001b[38;5;28;01mimport\u001b[39;00m \u001b[38;5;21;01msys\u001b[39;00m\n\u001b[1;32m      7\u001b[0m sys\u001b[38;5;241m.\u001b[39mpath\u001b[38;5;241m.\u001b[39mappend(\u001b[38;5;124m\"\u001b[39m\u001b[38;5;124m../src\u001b[39m\u001b[38;5;124m\"\u001b[39m)\n\u001b[0;32m----> 9\u001b[0m \u001b[38;5;28;01mfrom\u001b[39;00m \u001b[38;5;21;01mweather\u001b[39;00m \u001b[38;5;28;01mimport\u001b[39;00m analyze_weather_data, nedbør\n\u001b[1;32m     11\u001b[0m \u001b[38;5;66;03m# Kall funksjonen for å hente data\u001b[39;00m\n\u001b[1;32m     12\u001b[0m resultater \u001b[38;5;241m=\u001b[39m analyze_weather_data()\n",
      "\u001b[0;31mImportError\u001b[0m: cannot import name 'nedbør' from 'weather' (/Users/petter/Desktop/Skole/1. Klasse/Anvending av programering/milj-dataanalyse/processed_data/../src/weather.py)"
     ]
    }
   ],
   "source": [
    "import matplotlib.pyplot as plt\n",
    "import pandas as pd\n",
    "import numpy as np\n",
    "import seaborn as sns\n",
    "import sys\n",
    "\n",
    "sys.path.append(\"../src\")\n",
    "\n",
    "from weather import analyze_weather_data, nedbør\n",
    "\n",
    "# Kall funksjonen for å hente data\n",
    "resultater = analyze_weather_data()\n",
    "\n",
    "# Ekstraher data fra resultater\n",
    "korrelasjon = resultater[\"korrelasjon\"]\n",
    "\n",
    "\n"
   ]
  },
  {
   "cell_type": "markdown",
   "metadata": {},
   "source": [
    "Visualisering av data"
   ]
  },
  {
   "cell_type": "code",
   "execution_count": null,
   "metadata": {},
   "outputs": [],
   "source": [
    "\n"
   ]
  }
 ],
 "metadata": {
  "kernelspec": {
   "display_name": "Python 3",
   "language": "python",
   "name": "python3"
  },
  "language_info": {
   "codemirror_mode": {
    "name": "ipython",
    "version": 3
   },
   "file_extension": ".py",
   "mimetype": "text/x-python",
   "name": "python",
   "nbconvert_exporter": "python",
   "pygments_lexer": "ipython3",
   "version": "3.12.4"
  }
 },
 "nbformat": 4,
 "nbformat_minor": 2
}
