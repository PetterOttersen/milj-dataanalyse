{
 "cells": [
  {
   "cell_type": "code",
   "execution_count": null,
   "metadata": {},
   "outputs": [
    {
     "name": "stdout",
     "output_type": "stream",
     "text": [
      "['1 Olje- og gassutvinning', '2 Industri og bergverk', '3 Energiforsyning', '4 Oppvarming i andre næringer og husholdninger', '5 Veitrafikk', '6 Luftfart, sjøfart, fiske, motorredskaper m.m.', '7 Jordbruk', '9 Andre kilder']\n"
     ]
    }
   ],
   "source": [
    "# Hente inn data fra utslipp\n",
    "# Visualiser data som stople diagram\n",
    "import matplotlib.pyplot as plt\n",
    "import pandas as pd\n",
    "import numpy as np\n",
    "\n",
    "\n",
    "file_path_utslipp = \"https://github.com/PetterOttersen/milj-dataanalyse/raw/refs/heads/main/Excelfil_utslipp.xlsx\"\n",
    "data = pd.read_excel(file_path_utslipp, engine=\"openpyxl\")\n",
    "\n",
    "\n",
    "år = []\n",
    "\n",
    "utslipps_mengde = []\n",
    "\n",
    "\n",
    "alle_kilder = [] #En liste som inneholder grupper av elementer\n",
    "kilder = [] #En liste som inneholder unike elementer\n",
    "\n",
    "for verdi in data[\"kilde (aktivitet)\"][:]:\n",
    "    alle_kilder.append(verdi)\n",
    "\n",
    "for i in range(1,len(alle_kilder)):\n",
    "    if i == 0 or alle_kilder[i] != alle_kilder[i-1]:\n",
    "        kilder.append(alle_kilder[i])\n",
    "\n",
    "\n",
    "\n",
    "\n",
    "år = []\n",
    "\n",
    "\n",
    "\n",
    "\n",
    "\n",
    "\n",
    "\n",
    "\n",
    "\n",
    "\n",
    "\n",
    "\n",
    "\n",
    "\n",
    "utslipps_mengde = []\n",
    "\n",
    "\n",
    "\n",
    "\n",
    "\n",
    "\n",
    "\n",
    "\n",
    "\n",
    "print(kilder)\n",
    "\n"
   ]
  },
  {
   "cell_type": "code",
   "execution_count": null,
   "metadata": {},
   "outputs": [],
   "source": []
  }
 ],
 "metadata": {
  "kernelspec": {
   "display_name": "Python 3",
   "language": "python",
   "name": "python3"
  },
  "language_info": {
   "codemirror_mode": {
    "name": "ipython",
    "version": 3
   },
   "file_extension": ".py",
   "mimetype": "text/x-python",
   "name": "python",
   "nbconvert_exporter": "python",
   "pygments_lexer": "ipython3",
   "version": "3.13.2"
  }
 },
 "nbformat": 4,
 "nbformat_minor": 2
}
